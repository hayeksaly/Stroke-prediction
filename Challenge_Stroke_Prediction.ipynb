{
  "nbformat": 4,
  "nbformat_minor": 0,
  "metadata": {
    "colab": {
      "name": "Challenge-Stroke Prediction.ipynb",
      "provenance": [],
      "collapsed_sections": [
        "nkrEh6RYygms",
        "Qs4Tnvhbk-Ew",
        "21da4C_Bzd-u",
        "d1GOfAgt4M-Q",
        "KICuY0lg5nUD",
        "AD57fE2n7QP4",
        "U5zevRH57X8v",
        "IImSYWQGBSz6",
        "ngJVLbRKG7U_",
        "mXf6cpO_KWTs"
      ]
    },
    "kernelspec": {
      "name": "python3",
      "display_name": "Python 3"
    },
    "language_info": {
      "name": "python"
    }
  },
  "cells": [
    {
      "cell_type": "markdown",
      "metadata": {
        "id": "0g2RQRSltgja"
      },
      "source": [
        "# **Challenge of the Week: Full DL Solution**\n",
        "\n",
        "---\n",
        "###**Case Study:** Stroke Prediction\n",
        "\n",
        "**Objective:** The goal of this challenge is to walk you through a case study where you can apply the deep learning concepts that you learned about during the week. By the end of this challenge, you would have developed a solution that predicts if a person will have a stroke or not.\n"
      ]
    },
    {
      "cell_type": "markdown",
      "metadata": {
        "id": "SSCD88NxJjFo"
      },
      "source": [
        "**Dataset Explanation:** We will be using the stroke dataset. Its features are:\n",
        "\n",
        "\n",
        "* **id:** unique identifier\n",
        "* **gender:** \"Male\", \"Female\" or \"Other\"\n",
        "* **age:** age of the patient\n",
        "* **hypertension:** 0 if the patient doesn't have hypertension, 1 if the patient has hypertension\n",
        "* **heart_disease:** 0 if the patient doesn't have any heart diseases, 1 if the patient has a heart disease\n",
        "* **ever_married:** \"No\" or \"Yes\"\n",
        "* **work_type:** \"children\", \"Govt_jov\", \"Never_worked\", \"Private\" or \"Self-employed\"\n",
        "* **Residence_type:** \"Rural\" or \"Urban\"\n",
        "* **avg_glucose_level:** average glucose level in blood\n",
        "* **bmi:** body mass index\n",
        "* **smoking_status:** \"formerly smoked\", \"never smoked\", \"smokes\" or \"Unknown\"*\n",
        "* **stroke:** 1 if the patient had a stroke or 0 if not"
      ]
    },
    {
      "cell_type": "markdown",
      "metadata": {
        "id": "gBvX5nCYt8cT"
      },
      "source": [
        "#Importing Libraries"
      ]
    },
    {
      "cell_type": "markdown",
      "metadata": {
        "id": "JaPfsfvXK2_0"
      },
      "source": [
        "We start by importing the libraries: numpy and pandas"
      ]
    },
    {
      "cell_type": "code",
      "metadata": {
        "id": "mMQuUG7OtfrG"
      },
      "source": [
        "#Test Your Zaka\n",
        "import numpy as np\n",
        "import pandas as pd\n"
      ],
      "execution_count": null,
      "outputs": []
    },
    {
      "cell_type": "markdown",
      "metadata": {
        "id": "0-RxAH5auFFy"
      },
      "source": [
        "#Loading the Dataset"
      ]
    },
    {
      "cell_type": "markdown",
      "metadata": {
        "id": "z_jj2t6zK6zy"
      },
      "source": [
        "We load the dataset from a csv file, and see its first rows"
      ]
    },
    {
      "cell_type": "code",
      "metadata": {
        "id": "UQVo1CAJt7s8"
      },
      "source": [
        "#Test Your Zaka\n",
        "df = pd.DataFrame()\n",
        "df = pd.read_csv('/content/healthcare-dataset-stroke-data.csv')"
      ],
      "execution_count": null,
      "outputs": []
    },
    {
      "cell_type": "markdown",
      "metadata": {
        "id": "r6gAyBGtubI7"
      },
      "source": [
        "#Exploratory Data Analysis"
      ]
    },
    {
      "cell_type": "markdown",
      "metadata": {
        "id": "XZ_93CvuLF3j"
      },
      "source": [
        "Now we start the exploratory data analysis."
      ]
    },
    {
      "cell_type": "markdown",
      "metadata": {
        "id": "2925yVCdud0a"
      },
      "source": [
        "###Shape of the data"
      ]
    },
    {
      "cell_type": "markdown",
      "metadata": {
        "id": "yZ0hWvVALJy4"
      },
      "source": [
        "First, you need to know the shape of our data (How many examples and features do we have)"
      ]
    },
    {
      "cell_type": "code",
      "metadata": {
        "id": "8pvWR3PKuQEy",
        "colab": {
          "base_uri": "https://localhost:8080/"
        },
        "outputId": "f7216266-d141-4945-ffcb-ae8cb7adcba7"
      },
      "source": [
        "#Test Your Zaka\n",
        "df.shape"
      ],
      "execution_count": null,
      "outputs": [
        {
          "output_type": "execute_result",
          "data": {
            "text/plain": [
              "(5110, 12)"
            ]
          },
          "metadata": {
            "tags": []
          },
          "execution_count": 50
        }
      ]
    },
    {
      "cell_type": "markdown",
      "metadata": {
        "id": "yUy4oI5xukRr"
      },
      "source": [
        "###Types of different Columns"
      ]
    },
    {
      "cell_type": "markdown",
      "metadata": {
        "id": "G1q10ievLTTs"
      },
      "source": [
        "See the type of each of your features and see if you have any nulls"
      ]
    },
    {
      "cell_type": "code",
      "metadata": {
        "id": "_8snoohouhUP",
        "colab": {
          "base_uri": "https://localhost:8080/"
        },
        "outputId": "f21ac0ad-d59a-40e4-80d4-ea960032e7af"
      },
      "source": [
        "#Test Your Zaka\n",
        "df.info()"
      ],
      "execution_count": null,
      "outputs": [
        {
          "output_type": "stream",
          "text": [
            "<class 'pandas.core.frame.DataFrame'>\n",
            "RangeIndex: 5110 entries, 0 to 5109\n",
            "Data columns (total 12 columns):\n",
            " #   Column             Non-Null Count  Dtype  \n",
            "---  ------             --------------  -----  \n",
            " 0   id                 5110 non-null   int64  \n",
            " 1   gender             5110 non-null   object \n",
            " 2   age                5110 non-null   float64\n",
            " 3   hypertension       5110 non-null   int64  \n",
            " 4   heart_disease      5110 non-null   int64  \n",
            " 5   ever_married       5110 non-null   object \n",
            " 6   work_type          5110 non-null   object \n",
            " 7   Residence_type     5110 non-null   object \n",
            " 8   avg_glucose_level  5110 non-null   float64\n",
            " 9   bmi                4909 non-null   float64\n",
            " 10  smoking_status     5110 non-null   object \n",
            " 11  stroke             5110 non-null   int64  \n",
            "dtypes: float64(3), int64(4), object(5)\n",
            "memory usage: 479.2+ KB\n"
          ],
          "name": "stdout"
        }
      ]
    },
    {
      "cell_type": "markdown",
      "metadata": {
        "id": "nkrEh6RYygms"
      },
      "source": [
        "###Dealing with categorical variables"
      ]
    },
    {
      "cell_type": "markdown",
      "metadata": {
        "id": "Z7rtFrHVLg5U"
      },
      "source": [
        "Now we will walk through the categorical variables that we have to see the categories and the counts of each of them."
      ]
    },
    {
      "cell_type": "markdown",
      "metadata": {
        "id": "c5uIMEU-gYEJ"
      },
      "source": [
        "'smoking_status'"
      ]
    },
    {
      "cell_type": "code",
      "metadata": {
        "id": "DlSfSQ35ykgc",
        "colab": {
          "base_uri": "https://localhost:8080/"
        },
        "outputId": "c0d4ac56-dd32-4d86-f528-d6aaaf2bc315"
      },
      "source": [
        "#Test Your Zaka\n",
        "df['smoking_status'].value_counts()"
      ],
      "execution_count": null,
      "outputs": [
        {
          "output_type": "execute_result",
          "data": {
            "text/plain": [
              "never smoked       1892\n",
              "Unknown            1544\n",
              "formerly smoked     885\n",
              "smokes              789\n",
              "Name: smoking_status, dtype: int64"
            ]
          },
          "metadata": {
            "tags": []
          },
          "execution_count": 52
        }
      ]
    },
    {
      "cell_type": "markdown",
      "metadata": {
        "id": "Z1yf6OU5geTr"
      },
      "source": [
        "'Residence_type'"
      ]
    },
    {
      "cell_type": "code",
      "metadata": {
        "id": "Yg0xlLNUy7AF",
        "colab": {
          "base_uri": "https://localhost:8080/"
        },
        "outputId": "9131fdbd-51ff-4c5c-945d-3bbb3630efce"
      },
      "source": [
        "#Test Your Zaka\n",
        "df['Residence_type'].value_counts()"
      ],
      "execution_count": null,
      "outputs": [
        {
          "output_type": "execute_result",
          "data": {
            "text/plain": [
              "Urban    2596\n",
              "Rural    2514\n",
              "Name: Residence_type, dtype: int64"
            ]
          },
          "metadata": {
            "tags": []
          },
          "execution_count": 53
        }
      ]
    },
    {
      "cell_type": "markdown",
      "metadata": {
        "id": "82ovosaVgjC8"
      },
      "source": [
        "'work_type'"
      ]
    },
    {
      "cell_type": "code",
      "metadata": {
        "id": "T72r_mkrzF9V",
        "colab": {
          "base_uri": "https://localhost:8080/"
        },
        "outputId": "ce690f46-6111-48b3-8fa0-fe4d5ab283a9"
      },
      "source": [
        "#Test Your Zaka\n",
        "df['work_type'].value_counts()"
      ],
      "execution_count": null,
      "outputs": [
        {
          "output_type": "execute_result",
          "data": {
            "text/plain": [
              "Private          2925\n",
              "Self-employed     819\n",
              "children          687\n",
              "Govt_job          657\n",
              "Never_worked       22\n",
              "Name: work_type, dtype: int64"
            ]
          },
          "metadata": {
            "tags": []
          },
          "execution_count": 54
        }
      ]
    },
    {
      "cell_type": "markdown",
      "metadata": {
        "id": "0oa7__UPgnu8"
      },
      "source": [
        "'ever_married'"
      ]
    },
    {
      "cell_type": "code",
      "metadata": {
        "id": "Z0kpR57LzQE9",
        "colab": {
          "base_uri": "https://localhost:8080/"
        },
        "outputId": "783189ca-a216-43ee-f71b-2251a7ec3a8f"
      },
      "source": [
        "#Test Your Zaka\n",
        "df['ever_married'].value_counts()"
      ],
      "execution_count": null,
      "outputs": [
        {
          "output_type": "execute_result",
          "data": {
            "text/plain": [
              "Yes    3353\n",
              "No     1757\n",
              "Name: ever_married, dtype: int64"
            ]
          },
          "metadata": {
            "tags": []
          },
          "execution_count": 55
        }
      ]
    },
    {
      "cell_type": "markdown",
      "metadata": {
        "id": "LqUD-N4ygrxB"
      },
      "source": [
        "'hypertension'"
      ]
    },
    {
      "cell_type": "code",
      "metadata": {
        "id": "fQIoAs8y3igG",
        "colab": {
          "base_uri": "https://localhost:8080/"
        },
        "outputId": "da300253-4084-49f0-ed82-c268ad63d0d9"
      },
      "source": [
        "#Test Your Zaka\n",
        "df['hypertension'].value_counts()"
      ],
      "execution_count": null,
      "outputs": [
        {
          "output_type": "execute_result",
          "data": {
            "text/plain": [
              "0    4612\n",
              "1     498\n",
              "Name: hypertension, dtype: int64"
            ]
          },
          "metadata": {
            "tags": []
          },
          "execution_count": 56
        }
      ]
    },
    {
      "cell_type": "markdown",
      "metadata": {
        "id": "NmyP9Nfsg29X"
      },
      "source": [
        "'heart_disease'"
      ]
    },
    {
      "cell_type": "code",
      "metadata": {
        "id": "xEhNH46j3p3Y",
        "colab": {
          "base_uri": "https://localhost:8080/"
        },
        "outputId": "0956e26f-0f83-400b-ec03-b8284619a980"
      },
      "source": [
        "#Test Your Zaka\n",
        "df['heart_disease'].value_counts()"
      ],
      "execution_count": null,
      "outputs": [
        {
          "output_type": "execute_result",
          "data": {
            "text/plain": [
              "0    4834\n",
              "1     276\n",
              "Name: heart_disease, dtype: int64"
            ]
          },
          "metadata": {
            "tags": []
          },
          "execution_count": 57
        }
      ]
    },
    {
      "cell_type": "markdown",
      "metadata": {
        "id": "x8Oql1Xag94S"
      },
      "source": [
        "'stroke'"
      ]
    },
    {
      "cell_type": "code",
      "metadata": {
        "id": "8cI7uJvA3Njv",
        "colab": {
          "base_uri": "https://localhost:8080/"
        },
        "outputId": "ce184542-f268-485d-de3c-e0ce29e8cbe3"
      },
      "source": [
        "#Test Your Zaka\n",
        "df['stroke'].value_counts()"
      ],
      "execution_count": null,
      "outputs": [
        {
          "output_type": "execute_result",
          "data": {
            "text/plain": [
              "0    4861\n",
              "1     249\n",
              "Name: stroke, dtype: int64"
            ]
          },
          "metadata": {
            "tags": []
          },
          "execution_count": 58
        }
      ]
    },
    {
      "cell_type": "code",
      "metadata": {
        "colab": {
          "base_uri": "https://localhost:8080/"
        },
        "id": "eex7Tl_rOtN0",
        "outputId": "cac1386e-5f66-4cf6-f7b9-cf3836db4b70"
      },
      "source": [
        "df['gender'].value_counts()"
      ],
      "execution_count": null,
      "outputs": [
        {
          "output_type": "execute_result",
          "data": {
            "text/plain": [
              "Female    2994\n",
              "Male      2115\n",
              "Other        1\n",
              "Name: gender, dtype: int64"
            ]
          },
          "metadata": {
            "tags": []
          },
          "execution_count": 59
        }
      ]
    },
    {
      "cell_type": "markdown",
      "metadata": {
        "id": "D6jD-fR_k49a"
      },
      "source": [
        "#Preprocessing"
      ]
    },
    {
      "cell_type": "markdown",
      "metadata": {
        "id": "Qs4Tnvhbk-Ew"
      },
      "source": [
        "###Dealing with Nulls"
      ]
    },
    {
      "cell_type": "markdown",
      "metadata": {
        "id": "21da4C_Bzd-u"
      },
      "source": [
        "\n",
        "\n",
        "\n",
        "\n",
        "\n",
        "\n",
        "\n",
        "\n",
        "\n",
        "\n",
        "\n",
        "\n",
        "###Encoding Categorical Features"
      ]
    },
    {
      "cell_type": "markdown",
      "metadata": {
        "id": "UaNk4gWCLqe4"
      },
      "source": [
        "Here you will encode those categorical variables to be able to use them to train our DL model."
      ]
    },
    {
      "cell_type": "code",
      "metadata": {
        "id": "6nJtOvxdzi_G",
        "colab": {
          "base_uri": "https://localhost:8080/"
        },
        "outputId": "014b6723-bc87-44aa-f87f-a17f898f5bb3"
      },
      "source": [
        "#Test Your Zaka\n",
        "from sklearn.preprocessing import LabelEncoder\n",
        "from tensorflow.keras.utils import to_categorical\n",
        " \n",
        "encoder = LabelEncoder()\n",
        "df['smoking_status'] = encoder.fit_transform(df['smoking_status'])\n",
        "df['Residence_type'] = encoder.fit_transform(df['Residence_type'])\n",
        "df['work_type'] = encoder.fit_transform(df['work_type'])\n",
        "df['ever_married'] = encoder.fit_transform(df['ever_married'])\n",
        "df['hypertension'] = encoder.fit_transform(df['hypertension'])\n",
        "df['heart_disease'] = encoder.fit_transform(df['heart_disease'])\n",
        "df['stroke'] = encoder.fit_transform(df['stroke'])\n",
        "df['gender'] = encoder.fit_transform(df['gender'])\n",
        "df.head()"
      ],
      "execution_count": null,
      "outputs": [
        {
          "output_type": "execute_result",
          "data": {
            "text/html": [
              "<div>\n",
              "<style scoped>\n",
              "    .dataframe tbody tr th:only-of-type {\n",
              "        vertical-align: middle;\n",
              "    }\n",
              "\n",
              "    .dataframe tbody tr th {\n",
              "        vertical-align: top;\n",
              "    }\n",
              "\n",
              "    .dataframe thead th {\n",
              "        text-align: right;\n",
              "    }\n",
              "</style>\n",
              "<table border=\"1\" class=\"dataframe\">\n",
              "  <thead>\n",
              "    <tr style=\"text-align: right;\">\n",
              "      <th></th>\n",
              "      <th>id</th>\n",
              "      <th>gender</th>\n",
              "      <th>age</th>\n",
              "      <th>hypertension</th>\n",
              "      <th>heart_disease</th>\n",
              "      <th>ever_married</th>\n",
              "      <th>work_type</th>\n",
              "      <th>Residence_type</th>\n",
              "      <th>avg_glucose_level</th>\n",
              "      <th>bmi</th>\n",
              "      <th>smoking_status</th>\n",
              "      <th>stroke</th>\n",
              "    </tr>\n",
              "  </thead>\n",
              "  <tbody>\n",
              "    <tr>\n",
              "      <th>0</th>\n",
              "      <td>9046</td>\n",
              "      <td>1</td>\n",
              "      <td>67.0</td>\n",
              "      <td>0</td>\n",
              "      <td>1</td>\n",
              "      <td>1</td>\n",
              "      <td>2</td>\n",
              "      <td>1</td>\n",
              "      <td>228.69</td>\n",
              "      <td>36.6</td>\n",
              "      <td>1</td>\n",
              "      <td>1</td>\n",
              "    </tr>\n",
              "    <tr>\n",
              "      <th>1</th>\n",
              "      <td>51676</td>\n",
              "      <td>0</td>\n",
              "      <td>61.0</td>\n",
              "      <td>0</td>\n",
              "      <td>0</td>\n",
              "      <td>1</td>\n",
              "      <td>3</td>\n",
              "      <td>0</td>\n",
              "      <td>202.21</td>\n",
              "      <td>NaN</td>\n",
              "      <td>2</td>\n",
              "      <td>1</td>\n",
              "    </tr>\n",
              "    <tr>\n",
              "      <th>2</th>\n",
              "      <td>31112</td>\n",
              "      <td>1</td>\n",
              "      <td>80.0</td>\n",
              "      <td>0</td>\n",
              "      <td>1</td>\n",
              "      <td>1</td>\n",
              "      <td>2</td>\n",
              "      <td>0</td>\n",
              "      <td>105.92</td>\n",
              "      <td>32.5</td>\n",
              "      <td>2</td>\n",
              "      <td>1</td>\n",
              "    </tr>\n",
              "    <tr>\n",
              "      <th>3</th>\n",
              "      <td>60182</td>\n",
              "      <td>0</td>\n",
              "      <td>49.0</td>\n",
              "      <td>0</td>\n",
              "      <td>0</td>\n",
              "      <td>1</td>\n",
              "      <td>2</td>\n",
              "      <td>1</td>\n",
              "      <td>171.23</td>\n",
              "      <td>34.4</td>\n",
              "      <td>3</td>\n",
              "      <td>1</td>\n",
              "    </tr>\n",
              "    <tr>\n",
              "      <th>4</th>\n",
              "      <td>1665</td>\n",
              "      <td>0</td>\n",
              "      <td>79.0</td>\n",
              "      <td>1</td>\n",
              "      <td>0</td>\n",
              "      <td>1</td>\n",
              "      <td>3</td>\n",
              "      <td>0</td>\n",
              "      <td>174.12</td>\n",
              "      <td>24.0</td>\n",
              "      <td>2</td>\n",
              "      <td>1</td>\n",
              "    </tr>\n",
              "  </tbody>\n",
              "</table>\n",
              "</div>"
            ],
            "text/plain": [
              "      id  gender   age  ...   bmi  smoking_status  stroke\n",
              "0   9046       1  67.0  ...  36.6               1       1\n",
              "1  51676       0  61.0  ...   NaN               2       1\n",
              "2  31112       1  80.0  ...  32.5               2       1\n",
              "3  60182       0  49.0  ...  34.4               3       1\n",
              "4   1665       0  79.0  ...  24.0               2       1\n",
              "\n",
              "[5 rows x 12 columns]"
            ]
          },
          "metadata": {
            "tags": []
          },
          "execution_count": 60
        }
      ]
    },
    {
      "cell_type": "markdown",
      "metadata": {
        "id": "RtJKDDePlHJl"
      },
      "source": [
        "Fill the nulls with the mean value, and make sure you have no nulls anymore"
      ]
    },
    {
      "cell_type": "code",
      "metadata": {
        "id": "uOUE6TcrlIRo",
        "colab": {
          "base_uri": "https://localhost:8080/"
        },
        "outputId": "d10efc3f-7b8e-45aa-b669-07cdff0df7b9"
      },
      "source": [
        "#Test Your Zaka\n",
        "df['bmi'] = df['bmi'].fillna((df['bmi'].mean()))\n",
        "df.info()"
      ],
      "execution_count": null,
      "outputs": [
        {
          "output_type": "stream",
          "text": [
            "<class 'pandas.core.frame.DataFrame'>\n",
            "RangeIndex: 5110 entries, 0 to 5109\n",
            "Data columns (total 12 columns):\n",
            " #   Column             Non-Null Count  Dtype  \n",
            "---  ------             --------------  -----  \n",
            " 0   id                 5110 non-null   int64  \n",
            " 1   gender             5110 non-null   int64  \n",
            " 2   age                5110 non-null   float64\n",
            " 3   hypertension       5110 non-null   int64  \n",
            " 4   heart_disease      5110 non-null   int64  \n",
            " 5   ever_married       5110 non-null   int64  \n",
            " 6   work_type          5110 non-null   int64  \n",
            " 7   Residence_type     5110 non-null   int64  \n",
            " 8   avg_glucose_level  5110 non-null   float64\n",
            " 9   bmi                5110 non-null   float64\n",
            " 10  smoking_status     5110 non-null   int64  \n",
            " 11  stroke             5110 non-null   int64  \n",
            "dtypes: float64(3), int64(9)\n",
            "memory usage: 479.2 KB\n"
          ],
          "name": "stdout"
        }
      ]
    },
    {
      "cell_type": "markdown",
      "metadata": {
        "id": "d1GOfAgt4M-Q"
      },
      "source": [
        "###Normalizing Features"
      ]
    },
    {
      "cell_type": "markdown",
      "metadata": {
        "id": "EPpkMCXELwty"
      },
      "source": [
        "Now you normalize the input data by dividing with the max value of each column."
      ]
    },
    {
      "cell_type": "code",
      "metadata": {
        "id": "BtI_XA-m33Bx",
        "colab": {
          "base_uri": "https://localhost:8080/"
        },
        "outputId": "5550c1ae-0928-4326-d061-c12e9a52c8cd"
      },
      "source": [
        "#Test Your Zaka\n",
        "df_max = df.max()\n",
        "df_max\n",
        "\n"
      ],
      "execution_count": null,
      "outputs": [
        {
          "output_type": "execute_result",
          "data": {
            "text/plain": [
              "id                   72940.00\n",
              "gender                   2.00\n",
              "age                     82.00\n",
              "hypertension             1.00\n",
              "heart_disease            1.00\n",
              "ever_married             1.00\n",
              "work_type                4.00\n",
              "Residence_type           1.00\n",
              "avg_glucose_level      271.74\n",
              "bmi                     97.60\n",
              "smoking_status           3.00\n",
              "stroke                   1.00\n",
              "dtype: float64"
            ]
          },
          "metadata": {
            "tags": []
          },
          "execution_count": 62
        }
      ]
    },
    {
      "cell_type": "code",
      "metadata": {
        "colab": {
          "base_uri": "https://localhost:8080/"
        },
        "id": "hBw3qrqiBqs8",
        "outputId": "408c77b5-8681-4a52-975f-b9852b1e8a1f"
      },
      "source": [
        " df = df.divide(df_max)\n",
        " df.head()"
      ],
      "execution_count": null,
      "outputs": [
        {
          "output_type": "execute_result",
          "data": {
            "text/html": [
              "<div>\n",
              "<style scoped>\n",
              "    .dataframe tbody tr th:only-of-type {\n",
              "        vertical-align: middle;\n",
              "    }\n",
              "\n",
              "    .dataframe tbody tr th {\n",
              "        vertical-align: top;\n",
              "    }\n",
              "\n",
              "    .dataframe thead th {\n",
              "        text-align: right;\n",
              "    }\n",
              "</style>\n",
              "<table border=\"1\" class=\"dataframe\">\n",
              "  <thead>\n",
              "    <tr style=\"text-align: right;\">\n",
              "      <th></th>\n",
              "      <th>id</th>\n",
              "      <th>gender</th>\n",
              "      <th>age</th>\n",
              "      <th>hypertension</th>\n",
              "      <th>heart_disease</th>\n",
              "      <th>ever_married</th>\n",
              "      <th>work_type</th>\n",
              "      <th>Residence_type</th>\n",
              "      <th>avg_glucose_level</th>\n",
              "      <th>bmi</th>\n",
              "      <th>smoking_status</th>\n",
              "      <th>stroke</th>\n",
              "    </tr>\n",
              "  </thead>\n",
              "  <tbody>\n",
              "    <tr>\n",
              "      <th>0</th>\n",
              "      <td>0.124020</td>\n",
              "      <td>0.5</td>\n",
              "      <td>0.817073</td>\n",
              "      <td>0.0</td>\n",
              "      <td>1.0</td>\n",
              "      <td>1.0</td>\n",
              "      <td>0.50</td>\n",
              "      <td>1.0</td>\n",
              "      <td>0.841577</td>\n",
              "      <td>0.375000</td>\n",
              "      <td>0.333333</td>\n",
              "      <td>1.0</td>\n",
              "    </tr>\n",
              "    <tr>\n",
              "      <th>1</th>\n",
              "      <td>0.708473</td>\n",
              "      <td>0.0</td>\n",
              "      <td>0.743902</td>\n",
              "      <td>0.0</td>\n",
              "      <td>0.0</td>\n",
              "      <td>1.0</td>\n",
              "      <td>0.75</td>\n",
              "      <td>0.0</td>\n",
              "      <td>0.744130</td>\n",
              "      <td>0.296037</td>\n",
              "      <td>0.666667</td>\n",
              "      <td>1.0</td>\n",
              "    </tr>\n",
              "    <tr>\n",
              "      <th>2</th>\n",
              "      <td>0.426542</td>\n",
              "      <td>0.5</td>\n",
              "      <td>0.975610</td>\n",
              "      <td>0.0</td>\n",
              "      <td>1.0</td>\n",
              "      <td>1.0</td>\n",
              "      <td>0.50</td>\n",
              "      <td>0.0</td>\n",
              "      <td>0.389784</td>\n",
              "      <td>0.332992</td>\n",
              "      <td>0.666667</td>\n",
              "      <td>1.0</td>\n",
              "    </tr>\n",
              "    <tr>\n",
              "      <th>3</th>\n",
              "      <td>0.825089</td>\n",
              "      <td>0.0</td>\n",
              "      <td>0.597561</td>\n",
              "      <td>0.0</td>\n",
              "      <td>0.0</td>\n",
              "      <td>1.0</td>\n",
              "      <td>0.50</td>\n",
              "      <td>1.0</td>\n",
              "      <td>0.630124</td>\n",
              "      <td>0.352459</td>\n",
              "      <td>1.000000</td>\n",
              "      <td>1.0</td>\n",
              "    </tr>\n",
              "    <tr>\n",
              "      <th>4</th>\n",
              "      <td>0.022827</td>\n",
              "      <td>0.0</td>\n",
              "      <td>0.963415</td>\n",
              "      <td>1.0</td>\n",
              "      <td>0.0</td>\n",
              "      <td>1.0</td>\n",
              "      <td>0.75</td>\n",
              "      <td>0.0</td>\n",
              "      <td>0.640760</td>\n",
              "      <td>0.245902</td>\n",
              "      <td>0.666667</td>\n",
              "      <td>1.0</td>\n",
              "    </tr>\n",
              "  </tbody>\n",
              "</table>\n",
              "</div>"
            ],
            "text/plain": [
              "         id  gender       age  ...       bmi  smoking_status  stroke\n",
              "0  0.124020     0.5  0.817073  ...  0.375000        0.333333     1.0\n",
              "1  0.708473     0.0  0.743902  ...  0.296037        0.666667     1.0\n",
              "2  0.426542     0.5  0.975610  ...  0.332992        0.666667     1.0\n",
              "3  0.825089     0.0  0.597561  ...  0.352459        1.000000     1.0\n",
              "4  0.022827     0.0  0.963415  ...  0.245902        0.666667     1.0\n",
              "\n",
              "[5 rows x 12 columns]"
            ]
          },
          "metadata": {
            "tags": []
          },
          "execution_count": 63
        }
      ]
    },
    {
      "cell_type": "markdown",
      "metadata": {
        "id": "KICuY0lg5nUD"
      },
      "source": [
        "###Removing Unnecessary Features"
      ]
    },
    {
      "cell_type": "markdown",
      "metadata": {
        "id": "ua71U2YxL5Ls"
      },
      "source": [
        "From the features that we have, remove one that is irrelevant for our predictions"
      ]
    },
    {
      "cell_type": "code",
      "metadata": {
        "id": "8AHNqYbh5sE7"
      },
      "source": [
        "#Test Your Zaka\n",
        "df = df.drop(['id'], axis = 1)"
      ],
      "execution_count": null,
      "outputs": []
    },
    {
      "cell_type": "markdown",
      "metadata": {
        "id": "5k-KoLpH5C9R"
      },
      "source": [
        "#Building the DL Model"
      ]
    },
    {
      "cell_type": "markdown",
      "metadata": {
        "id": "uI2VtlafMBeN"
      },
      "source": [
        "Now it's time to build the actual model, and observe a summary of it.<br>\n",
        "The sizes of the **hidden** layers that you should use are: [32,16,8,4,2].\n",
        "The activation for each of those hidden layers is 'relu'\n",
        "<br>\n",
        "Print the summary of your model."
      ]
    },
    {
      "cell_type": "code",
      "metadata": {
        "id": "AZvKqqT65E0W",
        "colab": {
          "base_uri": "https://localhost:8080/"
        },
        "outputId": "ea3ac186-f9eb-49d3-c1fa-00995c126f99"
      },
      "source": [
        "#Test Your Zaka\n",
        "from tensorflow.keras.models import Sequential\n",
        "from tensorflow.keras.layers import Dense\n",
        "\n",
        "\n",
        "model = Sequential()\n",
        "model.add(Dense(32, input_dim = 10, activation = 'relu'))\n",
        "model.add(Dense(16, activation = 'relu'))\n",
        "model.add(Dense(8, activation = 'relu'))\n",
        "model.add(Dense(4, activation = 'relu'))\n",
        "model.add(Dense(2, activation = 'relu'))\n",
        "model.add(Dense(1, activation = \"sigmoid\")) \n",
        "\n",
        "model.summary()\n"
      ],
      "execution_count": null,
      "outputs": [
        {
          "output_type": "stream",
          "text": [
            "Model: \"sequential_3\"\n",
            "_________________________________________________________________\n",
            "Layer (type)                 Output Shape              Param #   \n",
            "=================================================================\n",
            "dense_18 (Dense)             (None, 32)                352       \n",
            "_________________________________________________________________\n",
            "dense_19 (Dense)             (None, 16)                528       \n",
            "_________________________________________________________________\n",
            "dense_20 (Dense)             (None, 8)                 136       \n",
            "_________________________________________________________________\n",
            "dense_21 (Dense)             (None, 4)                 36        \n",
            "_________________________________________________________________\n",
            "dense_22 (Dense)             (None, 2)                 10        \n",
            "_________________________________________________________________\n",
            "dense_23 (Dense)             (None, 1)                 3         \n",
            "=================================================================\n",
            "Total params: 1,065\n",
            "Trainable params: 1,065\n",
            "Non-trainable params: 0\n",
            "_________________________________________________________________\n"
          ],
          "name": "stdout"
        }
      ]
    },
    {
      "cell_type": "markdown",
      "metadata": {
        "id": "AD57fE2n7QP4"
      },
      "source": [
        "###Compiling the model"
      ]
    },
    {
      "cell_type": "markdown",
      "metadata": {
        "id": "seGmh1x1-qH9"
      },
      "source": [
        "Now we compile the model. Here we want to measure the accuracy as well as the precision and recall to know better about the performance of our model.\n",
        "We will use 'adam' as optimizer."
      ]
    },
    {
      "cell_type": "code",
      "metadata": {
        "id": "woSsSTEm61_U"
      },
      "source": [
        "#Test Your Zaka\n",
        "import tensorflow as tf\n",
        "from tensorflow import keras\n",
        "model = create_model()\n",
        "model.compile(loss='binary_crossentropy', \n",
        "              optimizer = 'adam',\n",
        "              metrics=['accuracy', tf.keras.metrics.Precision(), \n",
        "                        tf.keras.metrics.Recall()])"
      ],
      "execution_count": null,
      "outputs": []
    },
    {
      "cell_type": "markdown",
      "metadata": {
        "id": "U5zevRH57X8v"
      },
      "source": [
        "###Fitting the data"
      ]
    },
    {
      "cell_type": "markdown",
      "metadata": {
        "id": "UhaEU26KMUWK"
      },
      "source": [
        "we split our dataset between training and testing, and we fit the model on training data (70%), and validate on the testing data (30%). The training happens for 15 epochs."
      ]
    },
    {
      "cell_type": "code",
      "metadata": {
        "id": "rsVOVfn47MLn"
      },
      "source": [
        "#Test Your Zaka\n",
        "df.head()\n",
        "x = df.iloc[:, 0:-1]\n",
        "y = df.iloc[:,-1]\n",
        "\n"
      ],
      "execution_count": null,
      "outputs": []
    },
    {
      "cell_type": "code",
      "metadata": {
        "colab": {
          "base_uri": "https://localhost:8080/"
        },
        "id": "OmKSTS5XsJQ5",
        "outputId": "ad98aec1-bba7-4197-8cc9-ab875406bc6a"
      },
      "source": [
        "np.any(np.isnan(df))"
      ],
      "execution_count": null,
      "outputs": [
        {
          "output_type": "execute_result",
          "data": {
            "text/plain": [
              "False"
            ]
          },
          "metadata": {
            "tags": []
          },
          "execution_count": 68
        }
      ]
    },
    {
      "cell_type": "code",
      "metadata": {
        "colab": {
          "base_uri": "https://localhost:8080/"
        },
        "id": "GLKXHJ4osdB3",
        "outputId": "b5fb1340-cf1e-4c8c-a284-1d9a9abbb35d"
      },
      "source": [
        "model.fit(x, y, validation_split= 0.30, epochs = 15)"
      ],
      "execution_count": null,
      "outputs": [
        {
          "output_type": "stream",
          "text": [
            "Epoch 1/15\n",
            "112/112 [==============================] - 2s 6ms/step - loss: 0.6098 - accuracy: 0.9262 - precision: 0.0000e+00 - recall: 0.0000e+00 - val_loss: 0.2914 - val_accuracy: 1.0000 - val_precision: 0.0000e+00 - val_recall: 0.0000e+00\n",
            "Epoch 2/15\n",
            "112/112 [==============================] - 0s 3ms/step - loss: 0.2796 - accuracy: 0.9304 - precision: 0.0000e+00 - recall: 0.0000e+00 - val_loss: 0.0900 - val_accuracy: 1.0000 - val_precision: 0.0000e+00 - val_recall: 0.0000e+00\n",
            "Epoch 3/15\n",
            "112/112 [==============================] - 0s 3ms/step - loss: 0.2566 - accuracy: 0.9304 - precision: 0.0000e+00 - recall: 0.0000e+00 - val_loss: 0.0701 - val_accuracy: 1.0000 - val_precision: 0.0000e+00 - val_recall: 0.0000e+00\n",
            "Epoch 4/15\n",
            "112/112 [==============================] - 0s 3ms/step - loss: 0.2439 - accuracy: 0.9304 - precision: 0.0000e+00 - recall: 0.0000e+00 - val_loss: 0.0731 - val_accuracy: 1.0000 - val_precision: 0.0000e+00 - val_recall: 0.0000e+00\n",
            "Epoch 5/15\n",
            "112/112 [==============================] - 0s 3ms/step - loss: 0.2353 - accuracy: 0.9304 - precision: 0.0000e+00 - recall: 0.0000e+00 - val_loss: 0.0602 - val_accuracy: 1.0000 - val_precision: 0.0000e+00 - val_recall: 0.0000e+00\n",
            "Epoch 6/15\n",
            "112/112 [==============================] - 0s 3ms/step - loss: 0.2282 - accuracy: 0.9304 - precision: 0.0000e+00 - recall: 0.0000e+00 - val_loss: 0.0662 - val_accuracy: 1.0000 - val_precision: 0.0000e+00 - val_recall: 0.0000e+00\n",
            "Epoch 7/15\n",
            "112/112 [==============================] - 0s 3ms/step - loss: 0.2226 - accuracy: 0.9304 - precision: 0.0000e+00 - recall: 0.0000e+00 - val_loss: 0.0670 - val_accuracy: 1.0000 - val_precision: 0.0000e+00 - val_recall: 0.0000e+00\n",
            "Epoch 8/15\n",
            "112/112 [==============================] - 0s 3ms/step - loss: 0.2186 - accuracy: 0.9304 - precision: 0.0000e+00 - recall: 0.0000e+00 - val_loss: 0.0755 - val_accuracy: 1.0000 - val_precision: 0.0000e+00 - val_recall: 0.0000e+00\n",
            "Epoch 9/15\n",
            "112/112 [==============================] - 0s 3ms/step - loss: 0.2148 - accuracy: 0.9304 - precision: 0.0000e+00 - recall: 0.0000e+00 - val_loss: 0.0602 - val_accuracy: 1.0000 - val_precision: 0.0000e+00 - val_recall: 0.0000e+00\n",
            "Epoch 10/15\n",
            "112/112 [==============================] - 0s 3ms/step - loss: 0.2119 - accuracy: 0.9304 - precision: 0.0000e+00 - recall: 0.0000e+00 - val_loss: 0.0615 - val_accuracy: 1.0000 - val_precision: 0.0000e+00 - val_recall: 0.0000e+00\n",
            "Epoch 11/15\n",
            "112/112 [==============================] - 0s 3ms/step - loss: 0.2085 - accuracy: 0.9304 - precision: 0.0000e+00 - recall: 0.0000e+00 - val_loss: 0.0581 - val_accuracy: 1.0000 - val_precision: 0.0000e+00 - val_recall: 0.0000e+00\n",
            "Epoch 12/15\n",
            "112/112 [==============================] - 0s 3ms/step - loss: 0.2064 - accuracy: 0.9304 - precision: 0.0000e+00 - recall: 0.0000e+00 - val_loss: 0.0655 - val_accuracy: 1.0000 - val_precision: 0.0000e+00 - val_recall: 0.0000e+00\n",
            "Epoch 13/15\n",
            "112/112 [==============================] - 0s 3ms/step - loss: 0.2039 - accuracy: 0.9304 - precision: 0.0000e+00 - recall: 0.0000e+00 - val_loss: 0.0686 - val_accuracy: 1.0000 - val_precision: 0.0000e+00 - val_recall: 0.0000e+00\n",
            "Epoch 14/15\n",
            "112/112 [==============================] - 0s 3ms/step - loss: 0.2021 - accuracy: 0.9304 - precision: 0.0000e+00 - recall: 0.0000e+00 - val_loss: 0.0645 - val_accuracy: 1.0000 - val_precision: 0.0000e+00 - val_recall: 0.0000e+00\n",
            "Epoch 15/15\n",
            "112/112 [==============================] - 0s 3ms/step - loss: 0.2023 - accuracy: 0.9304 - precision: 0.0000e+00 - recall: 0.0000e+00 - val_loss: 0.0658 - val_accuracy: 1.0000 - val_precision: 0.0000e+00 - val_recall: 0.0000e+00\n"
          ],
          "name": "stdout"
        },
        {
          "output_type": "execute_result",
          "data": {
            "text/plain": [
              "<tensorflow.python.keras.callbacks.History at 0x7f34b41d9b90>"
            ]
          },
          "metadata": {
            "tags": []
          },
          "execution_count": 89
        }
      ]
    },
    {
      "cell_type": "markdown",
      "metadata": {
        "id": "_sPVIoABAa8Q"
      },
      "source": [
        "What can you deduce from the results you obtained?"
      ]
    },
    {
      "cell_type": "markdown",
      "metadata": {
        "id": "owY9hyWFimQQ"
      },
      "source": [
        "**[Here we can see that the accuracy is high(0.93), but the precisiom and recall are nearly 0 that means that there is high false positive rate and low ratio of correctly predicted positive observations.] **"
      ]
    },
    {
      "cell_type": "markdown",
      "metadata": {
        "id": "voqUo00lAqCZ"
      },
      "source": [
        "#Improving DL Models"
      ]
    },
    {
      "cell_type": "markdown",
      "metadata": {
        "id": "IImSYWQGBSz6"
      },
      "source": [
        "###Checking For Data Imbalance"
      ]
    },
    {
      "cell_type": "markdown",
      "metadata": {
        "id": "ZHxCONODMkNN"
      },
      "source": [
        "Plot a histogram that shows the distribution of 'stroke' column"
      ]
    },
    {
      "cell_type": "code",
      "metadata": {
        "id": "1bF6G8c58SOE",
        "colab": {
          "base_uri": "https://localhost:8080/",
          "height": 333
        },
        "outputId": "bcb64cca-0e6d-4808-b369-0dcab7cc8c24"
      },
      "source": [
        "#Test Your Zaka\n",
        "import matplotlib.pyplot as plt\n",
        "plt.hist(df['stroke'])"
      ],
      "execution_count": null,
      "outputs": [
        {
          "output_type": "execute_result",
          "data": {
            "text/plain": [
              "(array([4861.,    0.,    0.,    0.,    0.,    0.,    0.,    0.,    0.,\n",
              "         249.]),\n",
              " array([0. , 0.1, 0.2, 0.3, 0.4, 0.5, 0.6, 0.7, 0.8, 0.9, 1. ]),\n",
              " <a list of 10 Patch objects>)"
            ]
          },
          "metadata": {
            "tags": []
          },
          "execution_count": 90
        },
        {
          "output_type": "display_data",
          "data": {
            "image/png": "[encoded data removed]",
            "text/plain": [
              "<Figure size 432x288 with 1 Axes>"
            ]
          },
          "metadata": {
            "tags": [],
            "needs_background": "light"
          }
        }
      ]
    },
    {
      "cell_type": "markdown",
      "metadata": {
        "id": "gzZBB5GMCOld"
      },
      "source": [
        "We have a huge imbalance in the data, this is why we fix it with oversamppling and undersampling.\n",
        "\n",
        "This time, you will learn to oversample using the SMOTE() function instead of random oversampling, and this is because SMOTE will generate new data based on the data that we have, so we avoid overfitting."
      ]
    },
    {
      "cell_type": "markdown",
      "metadata": {
        "id": "w66slO25jE1O"
      },
      "source": [
        "After doing that, plot the new histogram showing the proportions of people having stroke or not"
      ]
    },
    {
      "cell_type": "code",
      "metadata": {
        "id": "US4xON4LBX8I",
        "colab": {
          "base_uri": "https://localhost:8080/"
        },
        "outputId": "2181ccd6-410c-457f-8c22-8db2808f00ad"
      },
      "source": [
        "#Test Your Zaka\n",
        "from imblearn.over_sampling import SMOTE\n",
        "sm = SMOTE(random_state = 2)\n",
        "X, Y = sm.fit_sample(x, y.ravel())"
      ],
      "execution_count": null,
      "outputs": [
        {
          "output_type": "stream",
          "text": [
            "/usr/local/lib/python3.7/dist-packages/sklearn/utils/deprecation.py:87: FutureWarning: Function safe_indexing is deprecated; safe_indexing is deprecated in version 0.22 and will be removed in version 0.24.\n",
            "  warnings.warn(msg, category=FutureWarning)\n"
          ],
          "name": "stderr"
        }
      ]
    },
    {
      "cell_type": "code",
      "metadata": {
        "colab": {
          "base_uri": "https://localhost:8080/",
          "height": 333
        },
        "id": "EtK0yIXQ2JEZ",
        "outputId": "568226d9-552d-4d77-e156-7b83a89b0944"
      },
      "source": [
        "plt.hist(Y)"
      ],
      "execution_count": null,
      "outputs": [
        {
          "output_type": "execute_result",
          "data": {
            "text/plain": [
              "(array([4861.,    0.,    0.,    0.,    0.,    0.,    0.,    0.,    0.,\n",
              "        4861.]),\n",
              " array([0. , 0.1, 0.2, 0.3, 0.4, 0.5, 0.6, 0.7, 0.8, 0.9, 1. ]),\n",
              " <a list of 10 Patch objects>)"
            ]
          },
          "metadata": {
            "tags": []
          },
          "execution_count": 92
        },
        {
          "output_type": "display_data",
          "data": {
            "image/png": "[encoded data removed]",
            "text/plain": [
              "<Figure size 432x288 with 1 Axes>"
            ]
          },
          "metadata": {
            "tags": [],
            "needs_background": "light"
          }
        }
      ]
    },
    {
      "cell_type": "markdown",
      "metadata": {
        "id": "u6MOHwo_Ew08"
      },
      "source": [
        "Now we will fit our same model on the new balanced data that we have, with the same conditions we had before (train/test splits, epochs, etc)"
      ]
    },
    {
      "cell_type": "code",
      "metadata": {
        "id": "26YTispLEm9N",
        "colab": {
          "base_uri": "https://localhost:8080/"
        },
        "outputId": "c6c91288-7a40-4b4e-a9de-440319e11f0c"
      },
      "source": [
        "#Test Your Zaka\n",
        "model.fit(X, Y, validation_split= 0.30, epochs = 15)"
      ],
      "execution_count": null,
      "outputs": [
        {
          "output_type": "stream",
          "text": [
            "Epoch 1/15\n",
            "213/213 [==============================] - 2s 5ms/step - loss: 0.4411 - accuracy: 0.7142 - precision: 0.0000e+00 - recall: 0.0000e+00 - val_loss: 0.9099 - val_accuracy: 0.0000e+00 - val_precision: 0.0000e+00 - val_recall: 0.0000e+00\n",
            "Epoch 2/15\n",
            "213/213 [==============================] - 1s 5ms/step - loss: 0.4263 - accuracy: 0.7843 - precision: 0.6365 - recall: 0.5710 - val_loss: 0.8871 - val_accuracy: 0.6661 - val_precision: 1.0000 - val_recall: 0.6661\n",
            "Epoch 3/15\n",
            "213/213 [==============================] - 1s 4ms/step - loss: 0.4206 - accuracy: 0.7960 - precision: 0.6499 - recall: 0.6199 - val_loss: 0.8923 - val_accuracy: 0.6260 - val_precision: 1.0000 - val_recall: 0.6260\n",
            "Epoch 4/15\n",
            "213/213 [==============================] - 1s 4ms/step - loss: 0.4151 - accuracy: 0.7965 - precision: 0.6446 - recall: 0.6409 - val_loss: 0.8739 - val_accuracy: 0.6366 - val_precision: 1.0000 - val_recall: 0.6366\n",
            "Epoch 5/15\n",
            "213/213 [==============================] - 1s 4ms/step - loss: 0.4107 - accuracy: 0.8018 - precision: 0.6541 - recall: 0.6497 - val_loss: 0.7497 - val_accuracy: 0.7528 - val_precision: 1.0000 - val_recall: 0.7528\n",
            "Epoch 6/15\n",
            "213/213 [==============================] - 1s 4ms/step - loss: 0.4082 - accuracy: 0.7974 - precision: 0.6432 - recall: 0.6528 - val_loss: 0.7759 - val_accuracy: 0.6832 - val_precision: 1.0000 - val_recall: 0.6832\n",
            "Epoch 7/15\n",
            "213/213 [==============================] - 1s 4ms/step - loss: 0.4044 - accuracy: 0.8003 - precision: 0.6505 - recall: 0.6502 - val_loss: 0.7064 - val_accuracy: 0.6993 - val_precision: 1.0000 - val_recall: 0.6993\n",
            "Epoch 8/15\n",
            "213/213 [==============================] - 1s 4ms/step - loss: 0.4028 - accuracy: 0.8000 - precision: 0.6510 - recall: 0.6466 - val_loss: 0.7094 - val_accuracy: 0.7100 - val_precision: 1.0000 - val_recall: 0.7100\n",
            "Epoch 9/15\n",
            "213/213 [==============================] - 1s 4ms/step - loss: 0.3974 - accuracy: 0.8051 - precision: 0.6603 - recall: 0.6548 - val_loss: 0.7286 - val_accuracy: 0.6850 - val_precision: 1.0000 - val_recall: 0.6850\n",
            "Epoch 10/15\n",
            "213/213 [==============================] - 1s 3ms/step - loss: 0.3942 - accuracy: 0.8060 - precision: 0.6615 - recall: 0.6574 - val_loss: 0.7776 - val_accuracy: 0.6236 - val_precision: 1.0000 - val_recall: 0.6236\n",
            "Epoch 11/15\n",
            "213/213 [==============================] - 1s 3ms/step - loss: 0.3928 - accuracy: 0.8035 - precision: 0.6600 - recall: 0.6440 - val_loss: 0.7285 - val_accuracy: 0.6678 - val_precision: 1.0000 - val_recall: 0.6678\n",
            "Epoch 12/15\n",
            "213/213 [==============================] - 1s 4ms/step - loss: 0.3890 - accuracy: 0.8096 - precision: 0.6656 - recall: 0.6698 - val_loss: 0.8280 - val_accuracy: 0.5835 - val_precision: 1.0000 - val_recall: 0.5835\n",
            "Epoch 13/15\n",
            "213/213 [==============================] - 1s 4ms/step - loss: 0.3879 - accuracy: 0.8081 - precision: 0.6665 - recall: 0.6569 - val_loss: 0.7091 - val_accuracy: 0.6740 - val_precision: 1.0000 - val_recall: 0.6740\n",
            "Epoch 14/15\n",
            "213/213 [==============================] - 1s 4ms/step - loss: 0.3849 - accuracy: 0.8119 - precision: 0.6722 - recall: 0.6667 - val_loss: 0.7877 - val_accuracy: 0.5982 - val_precision: 1.0000 - val_recall: 0.5982\n",
            "Epoch 15/15\n",
            "213/213 [==============================] - 1s 3ms/step - loss: 0.3831 - accuracy: 0.8097 - precision: 0.6711 - recall: 0.6548 - val_loss: 0.6596 - val_accuracy: 0.6969 - val_precision: 1.0000 - val_recall: 0.6969\n"
          ],
          "name": "stdout"
        },
        {
          "output_type": "execute_result",
          "data": {
            "text/plain": [
              "<tensorflow.python.keras.callbacks.History at 0x7f34bcf2a850>"
            ]
          },
          "metadata": {
            "tags": []
          },
          "execution_count": 93
        }
      ]
    },
    {
      "cell_type": "markdown",
      "metadata": {
        "id": "hhfhpIaWGtz2"
      },
      "source": [
        "Comment the performance you obtained"
      ]
    },
    {
      "cell_type": "markdown",
      "metadata": {
        "id": "rwQClRsEjkUb"
      },
      "source": [
        "**[Share your Zaka here]**"
      ]
    },
    {
      "cell_type": "markdown",
      "metadata": {
        "id": "ngJVLbRKG7U_"
      },
      "source": [
        "###Model Design"
      ]
    },
    {
      "cell_type": "markdown",
      "metadata": {
        "id": "sMdcXspCHxIo"
      },
      "source": [
        "Now you will introduce batch normalization after each layer of your network"
      ]
    },
    {
      "cell_type": "code",
      "metadata": {
        "id": "yK78-g-hHrmq"
      },
      "source": [
        "#Test Your Zaka\n",
        "from keras.layers import BatchNormalization\n",
        "def create_batchnormal_model():\n",
        "    model = Sequential()\n",
        "    model.add(Dense(32, input_dim = 10, activation = 'relu'))\n",
        "    model.add(BatchNormalization())\n",
        "    model.add(Dense(16, activation = 'relu'))\n",
        "    model.add(BatchNormalization())\n",
        "    model.add(Dense(8, activation = 'relu'))\n",
        "    model.add(BatchNormalization())\n",
        "    model.add(Dense(4, activation = 'relu'))\n",
        "    model.add(BatchNormalization())\n",
        "    model.add(Dense(2, activation = 'relu'))\n",
        "    model.add(BatchNormalization())\n",
        "    model.add(Dense(1, activation = \"sigmoid\")) \n",
        "    model.compile(optimizer = 'adam', loss='binary_crossentropy', metrics=['accuracy',  tf.keras.metrics.Precision(), \n",
        "                        tf.keras.metrics.Recall()])\n",
        "    return model         \n"
      ],
      "execution_count": null,
      "outputs": []
    },
    {
      "cell_type": "markdown",
      "metadata": {
        "id": "l3uBII4wJPbk"
      },
      "source": [
        "Let's train the model with the same conditions as before"
      ]
    },
    {
      "cell_type": "code",
      "metadata": {
        "id": "REDrQVWLJLs5",
        "colab": {
          "base_uri": "https://localhost:8080/"
        },
        "outputId": "a38afe42-07cc-430c-911f-c10d9c47d8ae"
      },
      "source": [
        "#Test Your Zaka\n",
        "modeln = create_batchnormal_model()\n",
        "modeln.compile(optimizer = 'adam', loss='binary_crossentropy', metrics=['accuracy',  tf.keras.metrics.Precision(), \n",
        "                        tf.keras.metrics.Recall()])\n",
        "modeln.fit(X, Y, validation_split= 0.30, epochs = 15)"
      ],
      "execution_count": null,
      "outputs": [
        {
          "output_type": "stream",
          "text": [
            "Epoch 1/15\n",
            "213/213 [==============================] - 3s 6ms/step - loss: 0.6030 - accuracy: 0.7362 - precision_2: 0.5417 - recall_2: 0.4979 - val_loss: 0.6907 - val_accuracy: 0.5704 - val_precision_2: 1.0000 - val_recall_2: 0.5704\n",
            "Epoch 2/15\n",
            "213/213 [==============================] - 1s 4ms/step - loss: 0.4911 - accuracy: 0.7788 - precision_2: 0.6035 - recall_2: 0.6584 - val_loss: 0.6862 - val_accuracy: 0.6054 - val_precision_2: 1.0000 - val_recall_2: 0.6054\n",
            "Epoch 3/15\n",
            "213/213 [==============================] - 1s 4ms/step - loss: 0.4480 - accuracy: 0.7927 - precision_2: 0.6356 - recall_2: 0.6425 - val_loss: 0.6713 - val_accuracy: 0.6507 - val_precision_2: 1.0000 - val_recall_2: 0.6507\n",
            "Epoch 4/15\n",
            "213/213 [==============================] - 1s 4ms/step - loss: 0.4255 - accuracy: 0.7925 - precision_2: 0.6354 - recall_2: 0.6420 - val_loss: 0.6766 - val_accuracy: 0.7011 - val_precision_2: 1.0000 - val_recall_2: 0.7011\n",
            "Epoch 5/15\n",
            "213/213 [==============================] - 1s 4ms/step - loss: 0.4144 - accuracy: 0.8000 - precision_2: 0.6535 - recall_2: 0.6384 - val_loss: 0.6416 - val_accuracy: 0.7158 - val_precision_2: 1.0000 - val_recall_2: 0.7158\n",
            "Epoch 6/15\n",
            "213/213 [==============================] - 1s 4ms/step - loss: 0.4056 - accuracy: 0.8015 - precision_2: 0.6537 - recall_2: 0.6487 - val_loss: 0.6761 - val_accuracy: 0.7055 - val_precision_2: 1.0000 - val_recall_2: 0.7055\n",
            "Epoch 7/15\n",
            "213/213 [==============================] - 1s 4ms/step - loss: 0.3976 - accuracy: 0.8041 - precision_2: 0.6584 - recall_2: 0.6533 - val_loss: 0.7232 - val_accuracy: 0.6990 - val_precision_2: 1.0000 - val_recall_2: 0.6990\n",
            "Epoch 8/15\n",
            "213/213 [==============================] - 1s 3ms/step - loss: 0.3930 - accuracy: 0.8082 - precision_2: 0.6670 - recall_2: 0.6564 - val_loss: 0.6970 - val_accuracy: 0.6980 - val_precision_2: 1.0000 - val_recall_2: 0.6980\n",
            "Epoch 9/15\n",
            "213/213 [==============================] - 1s 4ms/step - loss: 0.3903 - accuracy: 0.8084 - precision_2: 0.6651 - recall_2: 0.6631 - val_loss: 0.5894 - val_accuracy: 0.7676 - val_precision_2: 1.0000 - val_recall_2: 0.7676\n",
            "Epoch 10/15\n",
            "213/213 [==============================] - 1s 4ms/step - loss: 0.3874 - accuracy: 0.8110 - precision_2: 0.6739 - recall_2: 0.6559 - val_loss: 0.6489 - val_accuracy: 0.7357 - val_precision_2: 1.0000 - val_recall_2: 0.7357\n",
            "Epoch 11/15\n",
            "213/213 [==============================] - 1s 4ms/step - loss: 0.3814 - accuracy: 0.8145 - precision_2: 0.6787 - recall_2: 0.6662 - val_loss: 0.6683 - val_accuracy: 0.6956 - val_precision_2: 1.0000 - val_recall_2: 0.6956\n",
            "Epoch 12/15\n",
            "213/213 [==============================] - 1s 3ms/step - loss: 0.3759 - accuracy: 0.8129 - precision_2: 0.6716 - recall_2: 0.6754 - val_loss: 0.6291 - val_accuracy: 0.7137 - val_precision_2: 1.0000 - val_recall_2: 0.7137\n",
            "Epoch 13/15\n",
            "213/213 [==============================] - 1s 4ms/step - loss: 0.3711 - accuracy: 0.8182 - precision_2: 0.6788 - recall_2: 0.6903 - val_loss: 0.6049 - val_accuracy: 0.7251 - val_precision_2: 1.0000 - val_recall_2: 0.7251\n",
            "Epoch 14/15\n",
            "213/213 [==============================] - 1s 3ms/step - loss: 0.3693 - accuracy: 0.8188 - precision_2: 0.6798 - recall_2: 0.6914 - val_loss: 0.6528 - val_accuracy: 0.7045 - val_precision_2: 1.0000 - val_recall_2: 0.7045\n",
            "Epoch 15/15\n",
            "213/213 [==============================] - 1s 4ms/step - loss: 0.3637 - accuracy: 0.8263 - precision_2: 0.6948 - recall_2: 0.6991 - val_loss: 0.6884 - val_accuracy: 0.6634 - val_precision_2: 1.0000 - val_recall_2: 0.6634\n"
          ],
          "name": "stdout"
        },
        {
          "output_type": "execute_result",
          "data": {
            "text/plain": [
              "<tensorflow.python.keras.callbacks.History at 0x7f34bd330e50>"
            ]
          },
          "metadata": {
            "tags": []
          },
          "execution_count": 97
        }
      ]
    },
    {
      "cell_type": "markdown",
      "metadata": {
        "id": "hhkSEThVKEdm"
      },
      "source": [
        "Comment the performance of your model"
      ]
    },
    {
      "cell_type": "markdown",
      "metadata": {
        "id": "dghb5Pkaj4fs"
      },
      "source": [
        "**[We can say that the model performance has improved, acuuracy is 0.82 while precision and recall have values of 0.69 approximately which means that we have low false positive rate and good ratio of correctly predicted positif]**"
      ]
    },
    {
      "cell_type": "markdown",
      "metadata": {
        "id": "mXf6cpO_KWTs"
      },
      "source": [
        "###Hyperparameter Tuning"
      ]
    },
    {
      "cell_type": "markdown",
      "metadata": {
        "id": "l2rMJJEcNDil"
      },
      "source": [
        "Now we will tune some hyperparameters of our model."
      ]
    },
    {
      "cell_type": "markdown",
      "metadata": {
        "id": "PQl4VxrOLQGO"
      },
      "source": [
        "We start by wrapping our model inside a kerasClassifier to be able to use it in Scikit Learn"
      ]
    },
    {
      "cell_type": "code",
      "metadata": {
        "id": "PYBO5H5LLW4w"
      },
      "source": [
        "#Test Your Zaka\n",
        "from tensorflow.keras.wrappers.scikit_learn import KerasClassifier\n",
        "import sklearn\n",
        "import tensorflow.keras.wrappers.scikit_learn\n",
        "model = KerasClassifier(build_fn=create_batchnormal_model, verbose=0)\n"
      ],
      "execution_count": null,
      "outputs": []
    },
    {
      "cell_type": "markdown",
      "metadata": {
        "id": "aIqMITAEKoue"
      },
      "source": [
        "We will tune the batch size (it can be 50 or 100) and the number of epochs (it can be 50 or 100).\n",
        "We will use a 3 folds cross validation"
      ]
    },
    {
      "cell_type": "code",
      "metadata": {
        "id": "E_XXldXwJ-Ch"
      },
      "source": [
        "#Test Your Zaka\n",
        "from sklearn.model_selection import GridSearchCV\n",
        "hyperparameters = {'batch_size': [50, 100], 'epochs' : [50, 100]}\n",
        "gridsearch = GridSearchCV(model, hyperparameters, cv=3, verbose=1)"
      ],
      "execution_count": null,
      "outputs": []
    },
    {
      "cell_type": "markdown",
      "metadata": {
        "id": "5oMDOqprkS8S"
      },
      "source": [
        "Find the best parameters according to the Grid Search you have done, and the accuracy for the best model."
      ]
    },
    {
      "cell_type": "code",
      "metadata": {
        "id": "fom1lr4pMku4",
        "colab": {
          "base_uri": "https://localhost:8080/"
        },
        "outputId": "9e02ece5-2b12-4a5b-a28b-1f119687df6f"
      },
      "source": [
        "#Test Your Zaka\n",
        "best_model = gridsearch.fit(X, Y)\n",
        "  \n",
        "print(best_model.best_estimator_)\n",
        "print(\"The mean accuracy of the model is:\",best_model.score(X, Y))"
      ],
      "execution_count": null,
      "outputs": [
        {
          "output_type": "stream",
          "text": [
            "Fitting 3 folds for each of 4 candidates, totalling 12 fits\n"
          ],
          "name": "stdout"
        },
        {
          "output_type": "stream",
          "text": [
            "[Parallel(n_jobs=1)]: Using backend SequentialBackend with 1 concurrent workers.\n",
            "[Parallel(n_jobs=1)]: Done  12 out of  12 | elapsed:  4.3min finished\n"
          ],
          "name": "stderr"
        },
        {
          "output_type": "stream",
          "text": [
            "<tensorflow.python.keras.wrappers.scikit_learn.KerasClassifier object at 0x7f34add1e390>\n",
            "The mean accuracy of the model is: 0.9002262949943542\n"
          ],
          "name": "stdout"
        }
      ]
    },
    {
      "cell_type": "code",
      "metadata": {
        "colab": {
          "base_uri": "https://localhost:8080/"
        },
        "id": "PT7UdG_CXXpb",
        "outputId": "fe9af854-5c8f-4117-b2c4-471d0fb1b4c2"
      },
      "source": [
        "print('Mean Accuracy: %.3f' % best_model.best_score_)\n",
        "print('Config: %s' % best_model.best_params_)"
      ],
      "execution_count": null,
      "outputs": [
        {
          "output_type": "stream",
          "text": [
            "Mean Accuracy: 0.808\n",
            "Config: {'batch_size': 50, 'epochs': 100}\n"
          ],
          "name": "stdout"
        }
      ]
    },
    {
      "cell_type": "markdown",
      "metadata": {
        "id": "ZqKDaC5aUQtc"
      },
      "source": [
        "Fit the model on the best hyperparameters we obtained."
      ]
    },
    {
      "cell_type": "code",
      "metadata": {
        "id": "IiauYJNtQXLB",
        "colab": {
          "base_uri": "https://localhost:8080/"
        },
        "outputId": "78659c57-56b4-4131-97c6-ff206a05d24c"
      },
      "source": [
        "#Test Your Zaka\n",
        "modeln.fit(X, Y, validation_split= 0.30, epochs = 100, batch_size=100)\n"
      ],
      "execution_count": null,
      "outputs": [
        {
          "output_type": "stream",
          "text": [
            "Epoch 1/100\n",
            "69/69 [==============================] - 0s 5ms/step - loss: 0.3355 - accuracy: 0.8409 - precision_2: 0.7186 - recall_2: 0.7279 - val_loss: 0.7713 - val_accuracy: 0.5629 - val_precision_2: 1.0000 - val_recall_2: 0.5629\n",
            "Epoch 2/100\n",
            "69/69 [==============================] - 0s 4ms/step - loss: 0.3339 - accuracy: 0.8423 - precision_2: 0.7194 - recall_2: 0.7346 - val_loss: 0.7390 - val_accuracy: 0.6068 - val_precision_2: 1.0000 - val_recall_2: 0.6068\n",
            "Epoch 3/100\n",
            "69/69 [==============================] - 0s 4ms/step - loss: 0.3313 - accuracy: 0.8422 - precision_2: 0.7171 - recall_2: 0.7392 - val_loss: 0.6192 - val_accuracy: 0.7168 - val_precision_2: 1.0000 - val_recall_2: 0.7168\n",
            "Epoch 4/100\n",
            "69/69 [==============================] - 0s 5ms/step - loss: 0.3309 - accuracy: 0.8391 - precision_2: 0.7132 - recall_2: 0.7305 - val_loss: 0.6660 - val_accuracy: 0.6651 - val_precision_2: 1.0000 - val_recall_2: 0.6651\n",
            "Epoch 5/100\n",
            "69/69 [==============================] - 0s 4ms/step - loss: 0.3287 - accuracy: 0.8461 - precision_2: 0.7215 - recall_2: 0.7515 - val_loss: 0.6452 - val_accuracy: 0.6764 - val_precision_2: 1.0000 - val_recall_2: 0.6764\n",
            "Epoch 6/100\n",
            "69/69 [==============================] - 0s 4ms/step - loss: 0.3206 - accuracy: 0.8494 - precision_2: 0.7346 - recall_2: 0.7402 - val_loss: 0.6273 - val_accuracy: 0.6966 - val_precision_2: 1.0000 - val_recall_2: 0.6966\n",
            "Epoch 7/100\n",
            "69/69 [==============================] - 0s 4ms/step - loss: 0.3184 - accuracy: 0.8481 - precision_2: 0.7300 - recall_2: 0.7428 - val_loss: 0.6250 - val_accuracy: 0.6932 - val_precision_2: 1.0000 - val_recall_2: 0.6932\n",
            "Epoch 8/100\n",
            "69/69 [==============================] - 0s 4ms/step - loss: 0.3149 - accuracy: 0.8520 - precision_2: 0.7370 - recall_2: 0.7495 - val_loss: 0.5237 - val_accuracy: 0.7751 - val_precision_2: 1.0000 - val_recall_2: 0.7751\n",
            "Epoch 9/100\n",
            "69/69 [==============================] - 0s 4ms/step - loss: 0.3283 - accuracy: 0.8457 - precision_2: 0.7226 - recall_2: 0.7464 - val_loss: 0.6066 - val_accuracy: 0.7206 - val_precision_2: 1.0000 - val_recall_2: 0.7206\n",
            "Epoch 10/100\n",
            "69/69 [==============================] - 0s 4ms/step - loss: 0.3188 - accuracy: 0.8451 - precision_2: 0.7250 - recall_2: 0.7377 - val_loss: 0.5425 - val_accuracy: 0.7477 - val_precision_2: 1.0000 - val_recall_2: 0.7477\n",
            "Epoch 11/100\n",
            "69/69 [==============================] - 0s 4ms/step - loss: 0.3304 - accuracy: 0.8404 - precision_2: 0.7182 - recall_2: 0.7263 - val_loss: 0.5375 - val_accuracy: 0.7621 - val_precision_2: 1.0000 - val_recall_2: 0.7621\n",
            "Epoch 12/100\n",
            "69/69 [==============================] - 0s 4ms/step - loss: 0.3211 - accuracy: 0.8456 - precision_2: 0.7252 - recall_2: 0.7397 - val_loss: 0.5604 - val_accuracy: 0.7144 - val_precision_2: 1.0000 - val_recall_2: 0.7144\n",
            "Epoch 13/100\n",
            "69/69 [==============================] - 0s 4ms/step - loss: 0.3165 - accuracy: 0.8513 - precision_2: 0.7375 - recall_2: 0.7443 - val_loss: 0.6196 - val_accuracy: 0.6778 - val_precision_2: 1.0000 - val_recall_2: 0.6778\n",
            "Epoch 14/100\n",
            "69/69 [==============================] - 0s 5ms/step - loss: 0.3114 - accuracy: 0.8533 - precision_2: 0.7474 - recall_2: 0.7351 - val_loss: 0.5451 - val_accuracy: 0.7576 - val_precision_2: 1.0000 - val_recall_2: 0.7576\n",
            "Epoch 15/100\n",
            "69/69 [==============================] - 0s 5ms/step - loss: 0.3169 - accuracy: 0.8448 - precision_2: 0.7245 - recall_2: 0.7371 - val_loss: 0.5395 - val_accuracy: 0.7683 - val_precision_2: 1.0000 - val_recall_2: 0.7683\n",
            "Epoch 16/100\n",
            "69/69 [==============================] - 0s 4ms/step - loss: 0.3123 - accuracy: 0.8507 - precision_2: 0.7318 - recall_2: 0.7536 - val_loss: 0.5581 - val_accuracy: 0.7398 - val_precision_2: 1.0000 - val_recall_2: 0.7398\n",
            "Epoch 17/100\n",
            "69/69 [==============================] - 0s 4ms/step - loss: 0.3029 - accuracy: 0.8579 - precision_2: 0.7501 - recall_2: 0.7536 - val_loss: 0.5799 - val_accuracy: 0.7165 - val_precision_2: 1.0000 - val_recall_2: 0.7165\n",
            "Epoch 18/100\n",
            "69/69 [==============================] - 0s 4ms/step - loss: 0.3089 - accuracy: 0.8535 - precision_2: 0.7417 - recall_2: 0.7474 - val_loss: 0.5086 - val_accuracy: 0.7813 - val_precision_2: 1.0000 - val_recall_2: 0.7813\n",
            "Epoch 19/100\n",
            "69/69 [==============================] - 0s 4ms/step - loss: 0.3078 - accuracy: 0.8541 - precision_2: 0.7367 - recall_2: 0.7613 - val_loss: 0.6405 - val_accuracy: 0.6630 - val_precision_2: 1.0000 - val_recall_2: 0.6630\n",
            "Epoch 20/100\n",
            "69/69 [==============================] - 0s 4ms/step - loss: 0.3073 - accuracy: 0.8560 - precision_2: 0.7410 - recall_2: 0.7623 - val_loss: 0.5901 - val_accuracy: 0.6966 - val_precision_2: 1.0000 - val_recall_2: 0.6966\n",
            "Epoch 21/100\n",
            "69/69 [==============================] - 0s 5ms/step - loss: 0.3011 - accuracy: 0.8592 - precision_2: 0.7503 - recall_2: 0.7603 - val_loss: 0.5426 - val_accuracy: 0.7429 - val_precision_2: 1.0000 - val_recall_2: 0.7429\n",
            "Epoch 22/100\n",
            "69/69 [==============================] - 0s 4ms/step - loss: 0.3090 - accuracy: 0.8536 - precision_2: 0.7308 - recall_2: 0.7721 - val_loss: 0.5622 - val_accuracy: 0.7590 - val_precision_2: 1.0000 - val_recall_2: 0.7590\n",
            "Epoch 23/100\n",
            "69/69 [==============================] - 0s 4ms/step - loss: 0.2970 - accuracy: 0.8616 - precision_2: 0.7523 - recall_2: 0.7685 - val_loss: 0.5864 - val_accuracy: 0.7271 - val_precision_2: 1.0000 - val_recall_2: 0.7271\n",
            "Epoch 24/100\n",
            "69/69 [==============================] - 0s 5ms/step - loss: 0.2995 - accuracy: 0.8592 - precision_2: 0.7513 - recall_2: 0.7582 - val_loss: 0.5452 - val_accuracy: 0.7497 - val_precision_2: 1.0000 - val_recall_2: 0.7497\n",
            "Epoch 25/100\n",
            "69/69 [==============================] - 0s 4ms/step - loss: 0.2985 - accuracy: 0.8638 - precision_2: 0.7534 - recall_2: 0.7778 - val_loss: 0.5203 - val_accuracy: 0.7731 - val_precision_2: 1.0000 - val_recall_2: 0.7731\n",
            "Epoch 26/100\n",
            "69/69 [==============================] - 0s 4ms/step - loss: 0.2971 - accuracy: 0.8592 - precision_2: 0.7450 - recall_2: 0.7711 - val_loss: 0.5383 - val_accuracy: 0.7556 - val_precision_2: 1.0000 - val_recall_2: 0.7556\n",
            "Epoch 27/100\n",
            "69/69 [==============================] - 0s 4ms/step - loss: 0.2922 - accuracy: 0.8633 - precision_2: 0.7553 - recall_2: 0.7716 - val_loss: 0.5507 - val_accuracy: 0.7353 - val_precision_2: 1.0000 - val_recall_2: 0.7353\n",
            "Epoch 28/100\n",
            "69/69 [==============================] - 0s 4ms/step - loss: 0.3013 - accuracy: 0.8575 - precision_2: 0.7452 - recall_2: 0.7613 - val_loss: 0.4928 - val_accuracy: 0.7851 - val_precision_2: 1.0000 - val_recall_2: 0.7851\n",
            "Epoch 29/100\n",
            "69/69 [==============================] - 0s 5ms/step - loss: 0.2925 - accuracy: 0.8635 - precision_2: 0.7593 - recall_2: 0.7644 - val_loss: 0.5250 - val_accuracy: 0.7614 - val_precision_2: 1.0000 - val_recall_2: 0.7614\n",
            "Epoch 30/100\n",
            "69/69 [==============================] - 0s 4ms/step - loss: 0.2917 - accuracy: 0.8632 - precision_2: 0.7531 - recall_2: 0.7752 - val_loss: 0.5232 - val_accuracy: 0.7652 - val_precision_2: 1.0000 - val_recall_2: 0.7652\n",
            "Epoch 31/100\n",
            "69/69 [==============================] - 0s 5ms/step - loss: 0.2845 - accuracy: 0.8722 - precision_2: 0.7645 - recall_2: 0.7984 - val_loss: 0.5529 - val_accuracy: 0.7333 - val_precision_2: 1.0000 - val_recall_2: 0.7333\n",
            "Epoch 32/100\n",
            "69/69 [==============================] - 0s 4ms/step - loss: 0.2855 - accuracy: 0.8707 - precision_2: 0.7671 - recall_2: 0.7860 - val_loss: 0.5719 - val_accuracy: 0.7360 - val_precision_2: 1.0000 - val_recall_2: 0.7360\n",
            "Epoch 33/100\n",
            "69/69 [==============================] - 0s 4ms/step - loss: 0.3166 - accuracy: 0.8495 - precision_2: 0.7295 - recall_2: 0.7521 - val_loss: 0.4717 - val_accuracy: 0.8039 - val_precision_2: 1.0000 - val_recall_2: 0.8039\n",
            "Epoch 34/100\n",
            "69/69 [==============================] - 0s 4ms/step - loss: 0.2997 - accuracy: 0.8579 - precision_2: 0.7476 - recall_2: 0.7587 - val_loss: 0.4545 - val_accuracy: 0.8200 - val_precision_2: 1.0000 - val_recall_2: 0.8200\n",
            "Epoch 35/100\n",
            "69/69 [==============================] - 0s 4ms/step - loss: 0.2969 - accuracy: 0.8619 - precision_2: 0.7473 - recall_2: 0.7803 - val_loss: 0.5167 - val_accuracy: 0.7737 - val_precision_2: 1.0000 - val_recall_2: 0.7737\n",
            "Epoch 36/100\n",
            "69/69 [==============================] - 0s 4ms/step - loss: 0.2890 - accuracy: 0.8670 - precision_2: 0.7609 - recall_2: 0.7793 - val_loss: 0.5025 - val_accuracy: 0.7998 - val_precision_2: 1.0000 - val_recall_2: 0.7998\n",
            "Epoch 37/100\n",
            "69/69 [==============================] - 0s 4ms/step - loss: 0.2845 - accuracy: 0.8698 - precision_2: 0.7634 - recall_2: 0.7886 - val_loss: 0.5076 - val_accuracy: 0.7854 - val_precision_2: 1.0000 - val_recall_2: 0.7854\n",
            "Epoch 38/100\n",
            "69/69 [==============================] - 0s 4ms/step - loss: 0.2940 - accuracy: 0.8647 - precision_2: 0.7569 - recall_2: 0.7752 - val_loss: 0.4202 - val_accuracy: 0.8385 - val_precision_2: 1.0000 - val_recall_2: 0.8385\n",
            "Epoch 39/100\n",
            "69/69 [==============================] - 0s 4ms/step - loss: 0.2959 - accuracy: 0.8635 - precision_2: 0.7516 - recall_2: 0.7798 - val_loss: 0.4653 - val_accuracy: 0.8087 - val_precision_2: 1.0000 - val_recall_2: 0.8087\n",
            "Epoch 40/100\n",
            "69/69 [==============================] - 0s 5ms/step - loss: 0.2903 - accuracy: 0.8661 - precision_2: 0.7599 - recall_2: 0.7767 - val_loss: 0.4978 - val_accuracy: 0.7844 - val_precision_2: 1.0000 - val_recall_2: 0.7844\n",
            "Epoch 41/100\n",
            "69/69 [==============================] - 0s 5ms/step - loss: 0.2927 - accuracy: 0.8629 - precision_2: 0.7559 - recall_2: 0.7680 - val_loss: 0.4439 - val_accuracy: 0.8108 - val_precision_2: 1.0000 - val_recall_2: 0.8108\n",
            "Epoch 42/100\n",
            "69/69 [==============================] - 0s 4ms/step - loss: 0.2858 - accuracy: 0.8647 - precision_2: 0.7531 - recall_2: 0.7829 - val_loss: 0.4575 - val_accuracy: 0.8001 - val_precision_2: 1.0000 - val_recall_2: 0.8001\n",
            "Epoch 43/100\n",
            "69/69 [==============================] - 0s 5ms/step - loss: 0.2825 - accuracy: 0.8704 - precision_2: 0.7726 - recall_2: 0.7742 - val_loss: 0.5111 - val_accuracy: 0.7449 - val_precision_2: 1.0000 - val_recall_2: 0.7449\n",
            "Epoch 44/100\n",
            "69/69 [==============================] - 0s 5ms/step - loss: 0.2808 - accuracy: 0.8702 - precision_2: 0.7689 - recall_2: 0.7803 - val_loss: 0.5234 - val_accuracy: 0.7549 - val_precision_2: 1.0000 - val_recall_2: 0.7549\n",
            "Epoch 45/100\n",
            "69/69 [==============================] - 0s 4ms/step - loss: 0.2769 - accuracy: 0.8689 - precision_2: 0.7692 - recall_2: 0.7731 - val_loss: 0.4602 - val_accuracy: 0.8087 - val_precision_2: 1.0000 - val_recall_2: 0.8087\n",
            "Epoch 46/100\n",
            "69/69 [==============================] - 0s 4ms/step - loss: 0.2907 - accuracy: 0.8604 - precision_2: 0.7478 - recall_2: 0.7716 - val_loss: 0.4292 - val_accuracy: 0.8320 - val_precision_2: 1.0000 - val_recall_2: 0.8320\n",
            "Epoch 47/100\n",
            "69/69 [==============================] - 0s 4ms/step - loss: 0.2803 - accuracy: 0.8702 - precision_2: 0.7694 - recall_2: 0.7793 - val_loss: 0.5259 - val_accuracy: 0.7412 - val_precision_2: 1.0000 - val_recall_2: 0.7412\n",
            "Epoch 48/100\n",
            "69/69 [==============================] - 0s 5ms/step - loss: 0.2798 - accuracy: 0.8710 - precision_2: 0.7708 - recall_2: 0.7803 - val_loss: 0.4755 - val_accuracy: 0.7909 - val_precision_2: 1.0000 - val_recall_2: 0.7909\n",
            "Epoch 49/100\n",
            "69/69 [==============================] - 0s 5ms/step - loss: 0.2806 - accuracy: 0.8702 - precision_2: 0.7599 - recall_2: 0.7978 - val_loss: 0.4513 - val_accuracy: 0.8135 - val_precision_2: 1.0000 - val_recall_2: 0.8135\n",
            "Epoch 50/100\n",
            "69/69 [==============================] - 0s 4ms/step - loss: 0.2815 - accuracy: 0.8702 - precision_2: 0.7673 - recall_2: 0.7834 - val_loss: 0.5078 - val_accuracy: 0.7576 - val_precision_2: 1.0000 - val_recall_2: 0.7576\n",
            "Epoch 51/100\n",
            "69/69 [==============================] - 0s 5ms/step - loss: 0.2792 - accuracy: 0.8705 - precision_2: 0.7640 - recall_2: 0.7912 - val_loss: 0.6039 - val_accuracy: 0.7107 - val_precision_2: 1.0000 - val_recall_2: 0.7107\n",
            "Epoch 52/100\n",
            "69/69 [==============================] - 0s 4ms/step - loss: 0.2740 - accuracy: 0.8752 - precision_2: 0.7764 - recall_2: 0.7912 - val_loss: 0.5119 - val_accuracy: 0.7470 - val_precision_2: 1.0000 - val_recall_2: 0.7470\n",
            "Epoch 53/100\n",
            "69/69 [==============================] - 0s 4ms/step - loss: 0.2813 - accuracy: 0.8708 - precision_2: 0.7630 - recall_2: 0.7948 - val_loss: 0.4346 - val_accuracy: 0.8231 - val_precision_2: 1.0000 - val_recall_2: 0.8231\n",
            "Epoch 54/100\n",
            "69/69 [==============================] - 0s 5ms/step - loss: 0.2819 - accuracy: 0.8670 - precision_2: 0.7538 - recall_2: 0.7937 - val_loss: 0.4860 - val_accuracy: 0.7748 - val_precision_2: 1.0000 - val_recall_2: 0.7748\n",
            "Epoch 55/100\n",
            "69/69 [==============================] - 0s 4ms/step - loss: 0.2751 - accuracy: 0.8729 - precision_2: 0.7715 - recall_2: 0.7886 - val_loss: 0.5211 - val_accuracy: 0.7652 - val_precision_2: 1.0000 - val_recall_2: 0.7652\n",
            "Epoch 56/100\n",
            "69/69 [==============================] - 0s 4ms/step - loss: 0.2706 - accuracy: 0.8761 - precision_2: 0.7793 - recall_2: 0.7901 - val_loss: 0.4407 - val_accuracy: 0.7953 - val_precision_2: 1.0000 - val_recall_2: 0.7953\n",
            "Epoch 57/100\n",
            "69/69 [==============================] - 0s 5ms/step - loss: 0.2745 - accuracy: 0.8729 - precision_2: 0.7723 - recall_2: 0.7870 - val_loss: 0.4486 - val_accuracy: 0.8217 - val_precision_2: 1.0000 - val_recall_2: 0.8217\n",
            "Epoch 58/100\n",
            "69/69 [==============================] - 0s 4ms/step - loss: 0.2729 - accuracy: 0.8751 - precision_2: 0.7752 - recall_2: 0.7927 - val_loss: 0.4407 - val_accuracy: 0.8012 - val_precision_2: 1.0000 - val_recall_2: 0.8012\n",
            "Epoch 59/100\n",
            "69/69 [==============================] - 0s 4ms/step - loss: 0.2707 - accuracy: 0.8748 - precision_2: 0.7733 - recall_2: 0.7948 - val_loss: 0.5043 - val_accuracy: 0.7689 - val_precision_2: 1.0000 - val_recall_2: 0.7689\n",
            "Epoch 60/100\n",
            "69/69 [==============================] - 0s 5ms/step - loss: 0.2736 - accuracy: 0.8773 - precision_2: 0.7744 - recall_2: 0.8050 - val_loss: 0.5408 - val_accuracy: 0.7590 - val_precision_2: 1.0000 - val_recall_2: 0.7590\n",
            "Epoch 61/100\n",
            "69/69 [==============================] - 0s 5ms/step - loss: 0.2809 - accuracy: 0.8682 - precision_2: 0.7614 - recall_2: 0.7845 - val_loss: 0.4350 - val_accuracy: 0.8289 - val_precision_2: 1.0000 - val_recall_2: 0.8289\n",
            "Epoch 62/100\n",
            "69/69 [==============================] - 0s 4ms/step - loss: 0.2773 - accuracy: 0.8757 - precision_2: 0.7723 - recall_2: 0.8009 - val_loss: 0.4333 - val_accuracy: 0.8324 - val_precision_2: 1.0000 - val_recall_2: 0.8324\n",
            "Epoch 63/100\n",
            "69/69 [==============================] - 0s 4ms/step - loss: 0.2686 - accuracy: 0.8780 - precision_2: 0.7782 - recall_2: 0.8014 - val_loss: 0.5112 - val_accuracy: 0.7515 - val_precision_2: 1.0000 - val_recall_2: 0.7515\n",
            "Epoch 64/100\n",
            "69/69 [==============================] - 0s 4ms/step - loss: 0.2764 - accuracy: 0.8708 - precision_2: 0.7758 - recall_2: 0.7706 - val_loss: 0.3998 - val_accuracy: 0.8402 - val_precision_2: 1.0000 - val_recall_2: 0.8402\n",
            "Epoch 65/100\n",
            "69/69 [==============================] - 0s 4ms/step - loss: 0.2711 - accuracy: 0.8794 - precision_2: 0.7770 - recall_2: 0.8102 - val_loss: 0.4111 - val_accuracy: 0.8368 - val_precision_2: 1.0000 - val_recall_2: 0.8368\n",
            "Epoch 66/100\n",
            "69/69 [==============================] - 0s 4ms/step - loss: 0.2708 - accuracy: 0.8771 - precision_2: 0.7792 - recall_2: 0.7953 - val_loss: 0.4565 - val_accuracy: 0.7995 - val_precision_2: 1.0000 - val_recall_2: 0.7995\n",
            "Epoch 67/100\n",
            "69/69 [==============================] - 0s 4ms/step - loss: 0.2601 - accuracy: 0.8857 - precision_2: 0.7947 - recall_2: 0.8086 - val_loss: 0.5102 - val_accuracy: 0.7528 - val_precision_2: 1.0000 - val_recall_2: 0.7528\n",
            "Epoch 68/100\n",
            "69/69 [==============================] - 0s 5ms/step - loss: 0.2818 - accuracy: 0.8664 - precision_2: 0.7576 - recall_2: 0.7829 - val_loss: 0.3664 - val_accuracy: 0.8701 - val_precision_2: 1.0000 - val_recall_2: 0.8701\n",
            "Epoch 69/100\n",
            "69/69 [==============================] - 0s 4ms/step - loss: 0.2805 - accuracy: 0.8726 - precision_2: 0.7657 - recall_2: 0.7984 - val_loss: 0.4448 - val_accuracy: 0.8176 - val_precision_2: 1.0000 - val_recall_2: 0.8176\n",
            "Epoch 70/100\n",
            "69/69 [==============================] - 0s 4ms/step - loss: 0.2760 - accuracy: 0.8729 - precision_2: 0.7680 - recall_2: 0.7953 - val_loss: 0.4994 - val_accuracy: 0.7665 - val_precision_2: 1.0000 - val_recall_2: 0.7665\n",
            "Epoch 71/100\n",
            "69/69 [==============================] - 0s 4ms/step - loss: 0.2857 - accuracy: 0.8663 - precision_2: 0.7668 - recall_2: 0.7644 - val_loss: 0.4786 - val_accuracy: 0.7833 - val_precision_2: 1.0000 - val_recall_2: 0.7833\n",
            "Epoch 72/100\n",
            "69/69 [==============================] - 0s 4ms/step - loss: 0.2819 - accuracy: 0.8667 - precision_2: 0.7658 - recall_2: 0.7685 - val_loss: 0.4132 - val_accuracy: 0.8245 - val_precision_2: 1.0000 - val_recall_2: 0.8245\n",
            "Epoch 73/100\n",
            "69/69 [==============================] - 0s 4ms/step - loss: 0.2744 - accuracy: 0.8742 - precision_2: 0.7723 - recall_2: 0.7937 - val_loss: 0.4721 - val_accuracy: 0.7988 - val_precision_2: 1.0000 - val_recall_2: 0.7988\n",
            "Epoch 74/100\n",
            "69/69 [==============================] - 0s 5ms/step - loss: 0.2643 - accuracy: 0.8794 - precision_2: 0.7792 - recall_2: 0.8061 - val_loss: 0.4777 - val_accuracy: 0.7857 - val_precision_2: 1.0000 - val_recall_2: 0.7857\n",
            "Epoch 75/100\n",
            "69/69 [==============================] - 0s 4ms/step - loss: 0.2718 - accuracy: 0.8724 - precision_2: 0.7693 - recall_2: 0.7906 - val_loss: 0.4647 - val_accuracy: 0.7902 - val_precision_2: 1.0000 - val_recall_2: 0.7902\n",
            "Epoch 76/100\n",
            "69/69 [==============================] - 0s 4ms/step - loss: 0.2651 - accuracy: 0.8770 - precision_2: 0.7766 - recall_2: 0.7994 - val_loss: 0.4591 - val_accuracy: 0.8015 - val_precision_2: 1.0000 - val_recall_2: 0.8015\n",
            "Epoch 77/100\n",
            "69/69 [==============================] - 0s 4ms/step - loss: 0.2788 - accuracy: 0.8713 - precision_2: 0.7662 - recall_2: 0.7906 - val_loss: 0.4002 - val_accuracy: 0.8375 - val_precision_2: 1.0000 - val_recall_2: 0.8375\n",
            "Epoch 78/100\n",
            "69/69 [==============================] - 0s 4ms/step - loss: 0.2817 - accuracy: 0.8680 - precision_2: 0.7647 - recall_2: 0.7773 - val_loss: 0.3814 - val_accuracy: 0.8642 - val_precision_2: 1.0000 - val_recall_2: 0.8642\n",
            "Epoch 79/100\n",
            "69/69 [==============================] - 0s 5ms/step - loss: 0.2661 - accuracy: 0.8804 - precision_2: 0.7814 - recall_2: 0.8071 - val_loss: 0.4944 - val_accuracy: 0.7659 - val_precision_2: 1.0000 - val_recall_2: 0.7659\n",
            "Epoch 80/100\n",
            "69/69 [==============================] - 0s 4ms/step - loss: 0.2654 - accuracy: 0.8770 - precision_2: 0.7739 - recall_2: 0.8045 - val_loss: 0.4816 - val_accuracy: 0.7854 - val_precision_2: 1.0000 - val_recall_2: 0.7854\n",
            "Epoch 81/100\n",
            "69/69 [==============================] - 0s 4ms/step - loss: 0.2630 - accuracy: 0.8796 - precision_2: 0.7845 - recall_2: 0.7978 - val_loss: 0.4437 - val_accuracy: 0.8210 - val_precision_2: 1.0000 - val_recall_2: 0.8210\n",
            "Epoch 82/100\n",
            "69/69 [==============================] - 0s 4ms/step - loss: 0.2611 - accuracy: 0.8801 - precision_2: 0.7787 - recall_2: 0.8107 - val_loss: 0.4495 - val_accuracy: 0.8104 - val_precision_2: 1.0000 - val_recall_2: 0.8104\n",
            "Epoch 83/100\n",
            "69/69 [==============================] - 0s 5ms/step - loss: 0.2730 - accuracy: 0.8736 - precision_2: 0.7715 - recall_2: 0.7922 - val_loss: 0.4975 - val_accuracy: 0.7720 - val_precision_2: 1.0000 - val_recall_2: 0.7720\n",
            "Epoch 84/100\n",
            "69/69 [==============================] - 0s 5ms/step - loss: 0.2602 - accuracy: 0.8841 - precision_2: 0.7933 - recall_2: 0.8035 - val_loss: 0.4580 - val_accuracy: 0.8053 - val_precision_2: 1.0000 - val_recall_2: 0.8053\n",
            "Epoch 85/100\n",
            "69/69 [==============================] - 0s 5ms/step - loss: 0.2768 - accuracy: 0.8735 - precision_2: 0.7781 - recall_2: 0.7793 - val_loss: 0.3876 - val_accuracy: 0.8677 - val_precision_2: 1.0000 - val_recall_2: 0.8677\n",
            "Epoch 86/100\n",
            "69/69 [==============================] - 0s 4ms/step - loss: 0.2731 - accuracy: 0.8702 - precision_2: 0.7579 - recall_2: 0.8020 - val_loss: 0.3953 - val_accuracy: 0.8581 - val_precision_2: 1.0000 - val_recall_2: 0.8581\n",
            "Epoch 87/100\n",
            "69/69 [==============================] - 0s 4ms/step - loss: 0.2892 - accuracy: 0.8654 - precision_2: 0.7599 - recall_2: 0.7731 - val_loss: 0.3514 - val_accuracy: 0.8759 - val_precision_2: 1.0000 - val_recall_2: 0.8759\n",
            "Epoch 88/100\n",
            "69/69 [==============================] - 0s 4ms/step - loss: 0.2808 - accuracy: 0.8664 - precision_2: 0.7553 - recall_2: 0.7876 - val_loss: 0.3780 - val_accuracy: 0.8570 - val_precision_2: 1.0000 - val_recall_2: 0.8570\n",
            "Epoch 89/100\n",
            "69/69 [==============================] - 0s 5ms/step - loss: 0.2680 - accuracy: 0.8732 - precision_2: 0.7688 - recall_2: 0.7953 - val_loss: 0.4238 - val_accuracy: 0.8214 - val_precision_2: 1.0000 - val_recall_2: 0.8214\n",
            "Epoch 90/100\n",
            "69/69 [==============================] - 0s 4ms/step - loss: 0.2730 - accuracy: 0.8752 - precision_2: 0.7667 - recall_2: 0.8097 - val_loss: 0.4410 - val_accuracy: 0.8087 - val_precision_2: 1.0000 - val_recall_2: 0.8087\n",
            "Epoch 91/100\n",
            "69/69 [==============================] - 0s 4ms/step - loss: 0.2689 - accuracy: 0.8732 - precision_2: 0.7696 - recall_2: 0.7937 - val_loss: 0.4969 - val_accuracy: 0.7772 - val_precision_2: 1.0000 - val_recall_2: 0.7772\n",
            "Epoch 92/100\n",
            "69/69 [==============================] - 0s 4ms/step - loss: 0.2578 - accuracy: 0.8808 - precision_2: 0.7765 - recall_2: 0.8184 - val_loss: 0.4252 - val_accuracy: 0.8327 - val_precision_2: 1.0000 - val_recall_2: 0.8327\n",
            "Epoch 93/100\n",
            "69/69 [==============================] - 0s 4ms/step - loss: 0.2597 - accuracy: 0.8798 - precision_2: 0.7875 - recall_2: 0.7932 - val_loss: 0.4018 - val_accuracy: 0.8416 - val_precision_2: 1.0000 - val_recall_2: 0.8416\n",
            "Epoch 94/100\n",
            "69/69 [==============================] - 0s 4ms/step - loss: 0.2517 - accuracy: 0.8843 - precision_2: 0.7832 - recall_2: 0.8230 - val_loss: 0.4715 - val_accuracy: 0.7957 - val_precision_2: 1.0000 - val_recall_2: 0.7957\n",
            "Epoch 95/100\n",
            "69/69 [==============================] - 0s 5ms/step - loss: 0.2543 - accuracy: 0.8843 - precision_2: 0.7932 - recall_2: 0.8050 - val_loss: 0.4424 - val_accuracy: 0.8108 - val_precision_2: 1.0000 - val_recall_2: 0.8108\n",
            "Epoch 96/100\n",
            "69/69 [==============================] - 0s 4ms/step - loss: 0.2869 - accuracy: 0.8683 - precision_2: 0.7522 - recall_2: 0.8040 - val_loss: 0.4073 - val_accuracy: 0.8354 - val_precision_2: 1.0000 - val_recall_2: 0.8354\n",
            "Epoch 97/100\n",
            "69/69 [==============================] - 0s 4ms/step - loss: 0.2745 - accuracy: 0.8727 - precision_2: 0.7753 - recall_2: 0.7809 - val_loss: 0.4107 - val_accuracy: 0.8224 - val_precision_2: 1.0000 - val_recall_2: 0.8224\n",
            "Epoch 98/100\n",
            "69/69 [==============================] - 0s 4ms/step - loss: 0.2717 - accuracy: 0.8758 - precision_2: 0.7763 - recall_2: 0.7942 - val_loss: 0.4382 - val_accuracy: 0.8180 - val_precision_2: 1.0000 - val_recall_2: 0.8180\n",
            "Epoch 99/100\n",
            "69/69 [==============================] - 0s 4ms/step - loss: 0.2709 - accuracy: 0.8813 - precision_2: 0.7812 - recall_2: 0.8117 - val_loss: 0.4479 - val_accuracy: 0.8145 - val_precision_2: 1.0000 - val_recall_2: 0.8145\n",
            "Epoch 100/100\n",
            "69/69 [==============================] - 0s 4ms/step - loss: 0.2645 - accuracy: 0.8808 - precision_2: 0.7776 - recall_2: 0.8164 - val_loss: 0.4920 - val_accuracy: 0.7809 - val_precision_2: 1.0000 - val_recall_2: 0.7809\n"
          ],
          "name": "stdout"
        },
        {
          "output_type": "execute_result",
          "data": {
            "text/plain": [
              "<tensorflow.python.keras.callbacks.History at 0x7f34b06fd6d0>"
            ]
          },
          "metadata": {
            "tags": []
          },
          "execution_count": 102
        }
      ]
    },
    {
      "cell_type": "markdown",
      "metadata": {
        "id": "wih9ltzbVH5F"
      },
      "source": [
        "Comment the performance of your model"
      ]
    },
    {
      "cell_type": "markdown",
      "metadata": {
        "id": "nJ59ggoxkniT"
      },
      "source": [
        "**[We can clearly say that the performance has evaluated; accuracy is now 0.87, precision 0.77 and recall 0.79 which is a good performance]**"
      ]
    },
    {
      "cell_type": "code",
      "metadata": {
        "id": "bKNwy0G9U9xo"
      },
      "source": [
        ""
      ],
      "execution_count": null,
      "outputs": []
    }
  ]
}